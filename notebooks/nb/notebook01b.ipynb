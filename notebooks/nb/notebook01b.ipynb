{
  "cells": [
    {
      "cell_type": "markdown",
      "metadata": {},
      "source": [
        "We will start by importing the numpy and pandas modules, which will need for\n",
        "most of the notebooks. They should already be available in Colab.\n",
        "\n"
      ]
    },
    {
      "cell_type": "code",
      "execution_count": null,
      "metadata": {},
      "outputs": [],
      "source": [
        "import pandas as pd\n",
        "import numpy as np"
      ]
    },
    {
      "cell_type": "markdown",
      "metadata": {},
      "source": [
        "\n",
        "\n",
        "## Exploring the core-based statistical areas (CBSA) dataset\n",
        "\n",
        "Now, as in the text, we want to load the `cbsa` dataset. You should have seen\n",
        "the code to do this already, but we need to make an adjustment. In the text it\n",
        "is assumed that the data lives in the same place as our code. Here, our code is\n",
        "in Colab but the data is still over on GitHub. In order to load in the data, we\n",
        "have to start our path with the right address for the book on GitHub. It will\n",
        "be helpful to store this as a variable in Python, which we can do with the \n",
        "following code:\n",
        "\n"
      ]
    },
    {
      "cell_type": "code",
      "execution_count": null,
      "metadata": {},
      "outputs": [],
      "source": [
        "ubase = \"https://raw.githubusercontent.com/distant-viewing/hdpy/refs/heads/main/\""
      ]
    },
    {
      "cell_type": "markdown",
      "metadata": {},
      "source": [
        "\n",
        "\n",
        "All of the datasets in the book can be accessed by combining the url base above\n",
        "with the code that you see in the book. In Python, we can combine two strings by\n",
        "simply adding them together. So, here is the code to read the `cbsa` dataset.\n",
        "Make sure you compare it to what is in the text of the book.\n",
        "\n"
      ]
    },
    {
      "cell_type": "code",
      "execution_count": null,
      "metadata": {},
      "outputs": [],
      "source": [
        "cbsa = pd.read_csv(ubase + \"data/acs_cbsa.csv\")\n",
        "cbsa"
      ]
    },
    {
      "cell_type": "markdown",
      "metadata": {},
      "source": [
        "\n",
        "\n",
        "A *method* is a function attached to an object. It is called by using the object\n",
        "name followed by the name of the function. From there, it works just like any\n",
        "other function. As shown in the text, use the `describe` method below to see a\n",
        "description of the columns in the `cbsa` dataset.\n",
        "\n"
      ]
    },
    {
      "cell_type": "code",
      "execution_count": null,
      "metadata": {},
      "outputs": [],
      "source": []
    },
    {
      "cell_type": "markdown",
      "metadata": {},
      "source": [
        "\n",
        "\n",
        "And, now, use the `info` method to find basic information about each of the \n",
        "columns in the dataset.\n",
        "\n"
      ]
    },
    {
      "cell_type": "code",
      "execution_count": null,
      "metadata": {},
      "outputs": [],
      "source": []
    },
    {
      "cell_type": "markdown",
      "metadata": {},
      "source": [
        "\n",
        "\n",
        "There are many more methods for DataFrame objects than the two shown in the\n",
        "text. Below, use the `nunique` method to see the number of unique values in\n",
        "each column. Go through each and make sure that they seem reasonable to you.\n",
        "Does anything seem surprising?\n",
        "\n"
      ]
    },
    {
      "cell_type": "code",
      "execution_count": null,
      "metadata": {},
      "outputs": [],
      "source": []
    },
    {
      "cell_type": "markdown",
      "metadata": {},
      "source": [
        "\n",
        "\n",
        "Some methods also take arguments. For example, the `sample` method takes an\n",
        "argument called `n`. It will return a random set of `n` rows from the dataset.\n",
        "Call this method below with a value of 10. Think about how random samples of the\n",
        "rows might be helpful in a data analysis project. Note that you can use either\n",
        "a positional argument or a named argument here (try to do both!)\n",
        "\n"
      ]
    },
    {
      "cell_type": "code",
      "execution_count": null,
      "metadata": {},
      "outputs": [],
      "source": []
    },
    {
      "cell_type": "markdown",
      "metadata": {},
      "source": [
        "\n",
        "\n",
        "Sometimes methods can return new DataFrame objects. In the code below, try out\n",
        "the `isnull` method. What happens?\n",
        "\n"
      ]
    },
    {
      "cell_type": "code",
      "execution_count": null,
      "metadata": {},
      "outputs": [],
      "source": []
    },
    {
      "cell_type": "markdown",
      "metadata": {},
      "source": [
        "\n",
        "\n",
        "When one method returns another object, we can *chain* together methods by adding\n",
        "another method at the end of the result. Below, chain the `isnull` method with\n",
        "the `sum` method. Do you understand what this is doing?\n",
        "\n"
      ]
    },
    {
      "cell_type": "code",
      "execution_count": null,
      "metadata": {},
      "outputs": [],
      "source": []
    },
    {
      "cell_type": "markdown",
      "metadata": {},
      "source": [
        "\n",
        "\n",
        "The `get` method is another common DataFrame method that takes one argument which\n",
        "has the name of a column in the dataset. Use it below to get the 'division' \n",
        "column of the data.\n",
        "\n"
      ]
    },
    {
      "cell_type": "code",
      "execution_count": null,
      "metadata": {},
      "outputs": [],
      "source": []
    },
    {
      "cell_type": "markdown",
      "metadata": {},
      "source": [
        "\n",
        "\n",
        "The value returned by the `get` method is a new kind of object called a *Series*.\n",
        "It represents a single column of the data. Series objects have their own methods.\n",
        "One particularly helpful method is `value_counts`. Chain this together below to\n",
        "see the number of areas in each region of the country.\n",
        "\n"
      ]
    },
    {
      "cell_type": "code",
      "execution_count": null,
      "metadata": {},
      "outputs": [],
      "source": []
    },
    {
      "cell_type": "markdown",
      "metadata": {},
      "source": [
        "\n",
        "\n",
        "We've already seen a lot of methods for DataFrame and Series objects, but there\n",
        "are many more. You can find all of the options for both on the following help\n",
        "pages:\n",
        "\n",
        "- [DataFrame](https://pandas.pydata.org/pandas-docs/stable/reference/frame.html)\n",
        "- [Series](https://pandas.pydata.org/pandas-docs/stable/reference/series.html)\n",
        "\n",
        "Take a moment to find a couple of the methods we have already seen and look at\n",
        "what the help pages for each look like.\n",
        "\n",
        "## Loading other datasets from the book.\n",
        "\n",
        "Now that you have an idea of how to load datasets from the book's GitHub\n",
        "repository, modify the code from the text to load the food prices dataset in \n",
        "the chunk below:\n",
        "\n"
      ]
    },
    {
      "cell_type": "code",
      "execution_count": null,
      "metadata": {},
      "outputs": [],
      "source": []
    },
    {
      "cell_type": "markdown",
      "metadata": {},
      "source": [
        "\n",
        "\n",
        "And, similarly, load the Wikipedia UK authors dataset.\n",
        "\n"
      ]
    },
    {
      "cell_type": "code",
      "execution_count": null,
      "metadata": {},
      "outputs": [],
      "source": []
    },
    {
      "cell_type": "markdown",
      "metadata": {},
      "source": [
        "\n",
        "\n",
        "All three of these will be used throughout the course notes. If you have\n",
        "questions about what they mean, now is a great time to ask!\n",
        "\n",
        "## Loading data from Google sheets\n",
        "\n",
        "Only working with data that has already been put online is fairly limiting. We\n",
        "will want to be able to get data in Python that we have created ourselves. Let's\n",
        "see how to read data in from public Google sheets.\n",
        "\n",
        "Before we get there, it will be helpful to see a very nice feature of Python \n",
        "called f-strings. If you put the letter \"f\" before a string, then anything in\n",
        "the string inside of curly braces will be evaluated as a Python variable and\n",
        "stuck inside of the string. That sounds more complicated than it really is.\n",
        "Change the code below to have your name in the variable called `my_name` and\n",
        "run it. Notice what happens with the string. Feel free to experiment and see\n",
        "what else this can do.\n",
        "\n"
      ]
    },
    {
      "cell_type": "code",
      "execution_count": null,
      "metadata": {},
      "outputs": [],
      "source": [
        "my_name = \"Taylor\"\n",
        "f\"My name is {my_name}\""
      ]
    },
    {
      "cell_type": "markdown",
      "metadata": {},
      "source": [
        "\n",
        "\n",
        "Now, to read data in from Google sheets we need to know the file id and the\n",
        "sheet id. The file ID is in the url of the sheet after the \"/d/\" and the sheet\n",
        "id is after the variable `gid=`. Adjust the values below to match the sheet that\n",
        "we have from class:\n",
        "\n"
      ]
    },
    {
      "cell_type": "code",
      "execution_count": null,
      "metadata": {},
      "outputs": [],
      "source": [
        "file_id = \"1CVHofm5ukU3CRh2-jvJdu_t4jPXRPFryOTZIo-lWN6E\"\n",
        "sheet_id = \"0\""
      ]
    },
    {
      "cell_type": "markdown",
      "metadata": {},
      "source": [
        "\n",
        "\n",
        "Now that you have those, we can use them to construct a path the sheet that \n",
        "returns a CSV file. Run the code below to see what this looks like:\n",
        "\n"
      ]
    },
    {
      "cell_type": "code",
      "execution_count": null,
      "metadata": {},
      "outputs": [],
      "source": [
        "url = f\"https://docs.google.com/spreadsheets/d/{file_id}/export?format=csv&gid={sheet_id}\"\n",
        "url"
      ]
    },
    {
      "cell_type": "markdown",
      "metadata": {},
      "source": [
        "\n",
        "\n",
        "Now that we have a URL, it is straightforward to download the dataset just as\n",
        "we did with the book ones above. Do that below:\n",
        "\n"
      ]
    },
    {
      "cell_type": "code",
      "execution_count": null,
      "metadata": {},
      "outputs": [],
      "source": [
        "df = pd.read_csv(url)\n",
        "df"
      ]
    },
    {
      "cell_type": "markdown",
      "metadata": {},
      "source": [
        "\n",
        "\n",
        "Try out a few of the functions that we have above in the code block below. If \n",
        "you want, you can add new code blocks in order to have multiple outputs of each.\n",
        "\n"
      ]
    },
    {
      "cell_type": "code",
      "execution_count": null,
      "metadata": {},
      "outputs": [],
      "source": []
    },
    {
      "cell_type": "markdown",
      "metadata": {},
      "source": [
        "\n",
        "\n",
        "Getting data locally on your machine into Colab is a little more complex, but \n",
        "we will see approaches to that in future notebooks.\n"
      ]
    }
  ],
  "metadata": {
    "kernelspec": {
      "display_name": "Python 3",
      "language": "python",
      "name": "python3"
    },
    "language_info": {
      "name": "python"
    }
  },
  "nbformat": 4,
  "nbformat_minor": 5
}