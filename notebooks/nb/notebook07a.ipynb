{
  "cells": [
    {
      "cell_type": "markdown",
      "metadata": {},
      "source": [
        "#"
      ],
      "id": "13ad4906-ee8e-4cf5-a01f-8914135fcd07"
    },
    {
      "cell_type": "code",
      "execution_count": 1,
      "metadata": {},
      "outputs": [],
      "source": [
        "1 + 1"
      ],
      "id": "6e622dff"
    },
    {
      "cell_type": "markdown",
      "metadata": {},
      "source": [
        "Just seeing if this works!"
      ],
      "id": "95b23717-34be-4fb3-af87-de83f8191286"
    }
  ],
  "nbformat": 4,
  "nbformat_minor": 5,
  "metadata": {
    "kernelspec": {
      "name": "python3",
      "display_name": "Python 3 (ipykernel)",
      "language": "python",
      "path": "/Users/admin/gh/hdpy/.venv/share/jupyter/kernels/python3"
    }
  }
}