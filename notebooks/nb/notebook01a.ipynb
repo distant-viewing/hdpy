{
  "cells": [
    {
      "cell_type": "markdown",
      "metadata": {},
      "source": [
        "This is the first notebook that we will be using this semester. The idea is just\n",
        "to have something to show (hopefully!) how easy it is to get up and running in\n",
        "Python using Colab. Anyone can open this file and see the code. In order to run\n",
        "it, you'll need to be signed into a Google account.\n",
        "\n",
        "In the cell below, run the expression below to get some simple math done in \n",
        "Python:\n",
        "\n"
      ]
    },
    {
      "cell_type": "code",
      "execution_count": null,
      "metadata": {},
      "outputs": [],
      "source": [
        "1 + 1"
      ]
    },
    {
      "cell_type": "markdown",
      "metadata": {},
      "source": [
        "\n",
        "\n",
        "Change the result above to see how you can use Python as a fancy calculator. Note\n",
        "that you are only changing your local copy of the script, not the global one that\n",
        "we have for the class.\n",
        "\n",
        "We can also save values in variables to use them later:\n",
        "\n"
      ]
    },
    {
      "cell_type": "code",
      "execution_count": null,
      "metadata": {},
      "outputs": [],
      "source": [
        "mynum = 3 + 5"
      ]
    },
    {
      "cell_type": "markdown",
      "metadata": {},
      "source": [
        "\n",
        "\n",
        "If we use the variable again, Python will replace the value we had previously:\n",
        "\n"
      ]
    },
    {
      "cell_type": "code",
      "execution_count": null,
      "metadata": {},
      "outputs": [],
      "source": [
        "mynum + 1"
      ]
    },
    {
      "cell_type": "markdown",
      "metadata": {},
      "source": [
        "\n",
        "\n",
        "Python also has a number of built-in functions that take zero or more arguments\n",
        "and return new values. Learning how they work is important for our future work.\n",
        "Let's see a simple example using `round`, which takes a number and rounds it to\n",
        "the nearest integer:\n",
        "\n"
      ]
    },
    {
      "cell_type": "code",
      "execution_count": null,
      "metadata": {},
      "outputs": [],
      "source": [
        "round(3.14159)"
      ]
    },
    {
      "cell_type": "markdown",
      "metadata": {},
      "source": [
        "\n",
        "\n",
        "Functions often have additional arguments. For example, `round` takes an optional\n",
        "second parameter giving the number of digits to round to. Notice what this does:\n",
        "\n"
      ]
    },
    {
      "cell_type": "code",
      "execution_count": null,
      "metadata": {},
      "outputs": [],
      "source": [
        "round(3.14159, 2)"
      ]
    },
    {
      "cell_type": "markdown",
      "metadata": {},
      "source": [
        "\n",
        "\n",
        "In addition to defining the *arguments* by their position in the function, we can\n",
        "also indicate their names. For example, notice that this does the same thing as\n",
        "above:\n",
        "\n"
      ]
    },
    {
      "cell_type": "code",
      "execution_count": null,
      "metadata": {},
      "outputs": [],
      "source": [
        "round(number=3.14159, ndigits=2)"
      ]
    },
    {
      "cell_type": "markdown",
      "metadata": {},
      "source": [
        "\n",
        "\n",
        "A benefit of named arguments is that we can provide them in any order:\n",
        "\n"
      ]
    },
    {
      "cell_type": "code",
      "execution_count": null,
      "metadata": {},
      "outputs": [],
      "source": [
        "round(ndigits=2, number=3.14159)"
      ]
    },
    {
      "cell_type": "markdown",
      "metadata": {},
      "source": [
        "\n",
        "\n",
        "While some functions exist at the start of our Python sessions, others need to\n",
        "be loaded through additional *modules*. Here is the code to load the popular \n",
        "*numpy* module.\n",
        "\n"
      ]
    },
    {
      "cell_type": "code",
      "execution_count": null,
      "metadata": {},
      "outputs": [],
      "source": [
        "import numpy as np"
      ]
    },
    {
      "cell_type": "markdown",
      "metadata": {},
      "source": [
        "\n",
        "\n",
        "Once we have a module loaded, we can call functions from within it using the \n",
        "module name followed by a dot and the function name. For example, here is how\n",
        "we generate a random sample of 5 numbers (try running it multiple times).\n",
        "\n"
      ]
    },
    {
      "cell_type": "code",
      "execution_count": null,
      "metadata": {},
      "outputs": [],
      "source": [
        "np.random.random(5)"
      ]
    },
    {
      "cell_type": "markdown",
      "metadata": {},
      "source": [
        "\n",
        "\n",
        "Don't worry about the specifics. We just want to start seeing what it looks like\n",
        "to run Python code. You'll get more details in the readings in the next few \n",
        "classes and it will quickly all become second nature!\n"
      ]
    }
  ],
  "metadata": {
    "kernelspec": {
      "display_name": "Python 3",
      "language": "python",
      "name": "python3"
    },
    "language_info": {
      "name": "python"
    }
  },
  "nbformat": 4,
  "nbformat_minor": 5
}